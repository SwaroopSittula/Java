{
 "cells": [
  {
   "cell_type": "markdown",
   "id": "9a1ad62f",
   "metadata": {},
   "source": [
    "## What are Streams? \n",
    "\n",
    "    Streams are wrappers around a data source, allowing us to operate with that data source and making bulk processing convenient and fast.\n",
    "    \n",
    "    Streams should not be confused with Java I/O streams (ex: FileInputStream etc); these have very little to do with each other.\n",
    "    \n",
    "Ref - https://stackify.com/streams-guide-java-8/"
   ]
  },
  {
   "cell_type": "code",
   "execution_count": 4,
   "id": "222d6a10",
   "metadata": {},
   "outputs": [],
   "source": [
    "class Employee {\n",
    "    Integer id;\n",
    "    String name;\n",
    "    Double salary;\n",
    "    \n",
    "    Employee(Integer id, String name, Double salary) {\n",
    "        this.id = id;\n",
    "        this.name = name;\n",
    "        this.salary = salary;\n",
    "    }\n",
    "}"
   ]
  },
  {
   "cell_type": "code",
   "execution_count": 10,
   "id": "7d62914f",
   "metadata": {},
   "outputs": [
    {
     "name": "stdout",
     "output_type": "stream",
     "text": [
      "REPL.$JShell$12B$Employee@535ee8f6\n",
      "REPL.$JShell$12B$Employee@57616645\n",
      "REPL.$JShell$12B$Employee@1263e2cd\n"
     ]
    }
   ],
   "source": [
    "private static Employee[] emparr = {\n",
    "    new Employee(1, \"Jeff Bezos\", 100000.0), \n",
    "    new Employee(2, \"Bill Gates\", 200000.0), \n",
    "    new Employee(3, \"Mark Zuckerberg\", 300000.0)\n",
    "};\n",
    "\n",
    "\n",
    "Arrays.stream(emparr).forEach(System.out::println);\n",
    "\n",
    "Arrays.stream(emparr).forEach(System.out::println);"
   ]
  }
 ],
 "metadata": {
  "kernelspec": {
   "display_name": "Java",
   "language": "java",
   "name": "java"
  },
  "language_info": {
   "codemirror_mode": "java",
   "file_extension": ".jshell",
   "mimetype": "text/x-java-source",
   "name": "Java",
   "pygments_lexer": "java",
   "version": "17.0.11+9-Ubuntu-120.04.2"
  }
 },
 "nbformat": 4,
 "nbformat_minor": 5
}
