{
 "cells": [
  {
   "cell_type": "markdown",
   "metadata": {},
   "source": [
    "### Java Data Types\n",
    "\n",
    "\n",
    "![alt text](assets/img/JavaDataTypesClassification.png \"Java Data Types Classification\")\n",
    "\n",
    "\n",
    "- <u>Primitive Data types </u> (Intrinsic / Built-in data type)\n",
    "  -  boolean, char, int, short, byte, long, float, and double\n",
    "- <u>Non-Primitive Data types </u> (Derived / Reference data type)\n",
    "  -  String, Array, Class, Object, Interface, Enum, etc.\n",
    "\n",
    "**Note**:\n",
    "- Both float and double data types were designed especially for scientific calculations, where approximation errors are acceptable. If accuracy is the most prior concern then, it is recommended not to use these data types and use BigDecimal class instead. \n",
    "- **C/C++ use ASCII characters** to represent the char datatypes and **only require 8 bits** to represent them. But **Java uses Unicode system** to represent which **requires 2 bytes**. Unicode defines a fully international character set that can represent most of the world’s written languages. It is a unification of dozens of character sets, such as Latin, Greek, Cyrillic, Katakana, Arabic, and many more.\n",
    "- The Reference Data Types will **contain a memory address of variable** values because the reference types won’t store the variable value directly in memory. They are strings, objects, arrays, etc.\n",
    "- Unlike C/C++, Java strings are not terminated with a null character.\n",
    "- **Float**: upto 7 decimal digits\n",
    "- **Double**: upto 16 decimal digits\n",
    "\n",
    "\n",
    "### Non-Primitive Data Types\n",
    "\n",
    "#### Class\n",
    "\n",
    "A class is a user-defined blueprint or prototype from which objects are created. It represents the set of properties or methods that are common to all objects of one type. In general, class declarations can include these components, in order: \n",
    "\n",
    "- **Modifiers**: A class can be public or has default access.\n",
    "- **Class name**: The name should begin with an initial letter (capitalized by convention).\n",
    "- **Superclass**(if any): The name of the class’s parent (superclass), if any, preceded by the keyword extends. A class can only extend (subclass) one parent.\n",
    "- **Interfaces**(if any): A comma-separated list of interfaces implemented by the class, if any, preceded by the keyword implements. A class can implement more than one interface.\n",
    "- **Body**: The class body is surrounded by braces, { }.\n",
    "\n",
    "#### Object\n",
    "\n",
    "An Object is a basic unit of Object-Oriented Programming and represents real-life entities. Objects interact by invoking methods. An object consists of \n",
    "\n",
    "- **State**: It is represented by the attributes of an object. It also reflects the properties of an object.\n",
    "- **Behavior**: It is represented by the methods of an object. It also reflects the response of an object to other objects.\n",
    "- **Identity**: It gives a unique name to an object and enables one object to interact with other objects.\n",
    "\n",
    "#### Interface:\n",
    "\n",
    "An Interface can have methods and variables, but the methods declared in an interface are by default abstract (only method signature, no body).\n",
    "\n",
    "- Interfaces specify what a class must do and not how. It is the blueprint of the class.\n",
    "- Example Interface: Java **Comparator Interface**. If a class implements this interface, then it can be used to sort a collection.\n",
    "\n",
    "\n",
    "\n",
    "| Properties                                   | Primitive data types                                                                            | Objects                                                                                  |\n",
    "|----------------------------------------------|-------------------------------------------------------------------------------------------------|------------------------------------------------------------------------------------------|\n",
    "| Origin                                       | Pre-defined data types                                                                          | User-defined data types                                                                  |\n",
    "| Stored structure                             | Stored in a stack                                                                               | Reference variable is stored in stack and the original object is stored in heap          |\n",
    "| When copied                                  | Two different variables are created along with different assignments (only values are the same) | Two reference variables are created but both are pointing to the same object on the heap |\n",
    "| When changes are made in the copied variable | Changes do not reflect in the original ones                                                     | Changes are reflected in the original ones if the object is mutable                      |\n",
    "| Default value                                | Primitive data types do not have null as default value                                          | The default value for the reference variable is null                                     |\n",
    "| Example                                      | byte, short, int, long, float, double, char, boolean                                            | array, string, class, interface, etc.                                                     |\n"
   ]
  },
  {
   "cell_type": "markdown",
   "metadata": {},
   "source": [
    "### Other Non-Primitive Data Types\n",
    "  \n",
    "- **Enum (Enumerated Data Type)**: An enum type is a special data type that enables for a variable to be a set of predefined constants. The variable must be equal to one of the values that have been predefined for it. Common examples include compass directions (values of NORTH, SOUTH, EAST, and WEST) and the days of the week.\n",
    "- **Wrapper Classes**: Objects created to extend functionalities on the primitive data-types.\n",
    "  - Boolean, Character\n",
    "  - Number (Abstract class for Numeric Data-types)\n",
    "    - Integer, Short, Byte, Long, Float, Double\n",
    "    - BigInteger, BigDecimal are subclasses for Number Class\n",
    "- **Abstract Data types**: Arrays, LinkedList, Stack, Queue, Trees"
   ]
  },
  {
   "cell_type": "code",
   "execution_count": 1,
   "metadata": {
    "vscode": {
     "languageId": "java"
    }
   },
   "outputs": [
    {
     "name": "stdout",
     "output_type": "stream",
     "text": [
      "a: 1, b: 2"
     ]
    },
    {
     "data": {
      "text/plain": [
       "java.io.PrintStream@7d80334a"
      ]
     },
     "execution_count": 1,
     "metadata": {},
     "output_type": "execute_result"
    }
   ],
   "source": [
    "// Copying Primitive Data Types => two different references point to different locations\n",
    "int a, b;\n",
    "\n",
    "a = 1;\n",
    "b = a;\n",
    "b = 2;\n",
    "\n",
    "System.out.printf(\"a: %d, b: %d\", a, b);"
   ]
  },
  {
   "cell_type": "code",
   "execution_count": 2,
   "metadata": {
    "vscode": {
     "languageId": "java"
    }
   },
   "outputs": [
    {
     "name": "stdout",
     "output_type": "stream",
     "text": [
      "a: 1, b: 2"
     ]
    },
    {
     "data": {
      "text/plain": [
       "java.io.PrintStream@7d80334a"
      ]
     },
     "execution_count": 2,
     "metadata": {},
     "output_type": "execute_result"
    }
   ],
   "source": [
    "Integer a,b;\n",
    "\n",
    "a = 1;\n",
    "b = a;\n",
    "b = 2;\n",
    "\n",
    "System.out.printf(\"a: %d, b: %d\", a, b);"
   ]
  },
  {
   "cell_type": "code",
   "execution_count": 3,
   "metadata": {
    "vscode": {
     "languageId": "java"
    }
   },
   "outputs": [
    {
     "name": "stdout",
     "output_type": "stream",
     "text": [
      "[10, 2, 3, 4, 5]\n",
      "[10, 2, 3, 4, 5]\n"
     ]
    }
   ],
   "source": [
    "// Copying Non-Primitive Data Types => two different references point to same location. (if mutable)\n",
    "int[] a = {1,2,3,4,5};\n",
    "\n",
    "int[] b = a;\n",
    "b[0] = 10;\n",
    "\n",
    "System.out.println(Arrays.toString(a));\n",
    "System.out.println(Arrays.toString(b));\n"
   ]
  },
  {
   "cell_type": "markdown",
   "metadata": {},
   "source": [
    "#### Strings are immutable in Java.\n",
    "\n",
    "Any time you change a string (e.g.: tacking on an extra character, making it lowercase, swapping two characters), you're actually creating a new and separate copy:"
   ]
  },
  {
   "cell_type": "code",
   "execution_count": 4,
   "metadata": {
    "vscode": {
     "languageId": "java"
    }
   },
   "outputs": [
    {
     "name": "stdout",
     "output_type": "stream",
     "text": [
      "a hashcode: 65590\n",
      "b hashcode: 65590\n",
      "a hashcode: 66551\n",
      "b hashcode: 65590\n",
      "Bav\n",
      "Aav\n"
     ]
    }
   ],
   "source": [
    "// String are immutable in Java\n",
    "\n",
    "String a = \"Aav\";\n",
    "String b = a;\n",
    "\n",
    "System.out.println(\"a hashcode: \" + a.hashCode());\n",
    "System.out.println(\"b hashcode: \" + b.hashCode());\n",
    "\n",
    "a = \"Bav\"; // Direct change not possible. new memory assigned.\n",
    "\n",
    "System.out.println(\"a hashcode: \" + a.hashCode());\n",
    "System.out.println(\"b hashcode: \" + b.hashCode());\n",
    "\n",
    "System.out.println(a);\n",
    "System.out.println(b);"
   ]
  },
  {
   "cell_type": "markdown",
   "metadata": {},
   "source": [
    "#### References\n",
    "\n",
    "- https://www.geeksforgeeks.org/data-types-in-java/\n",
    "- https://www.geeksforgeeks.org/primitive-data-type-vs-object-data-type-in-java-with-examples\n",
    "- https://www.baeldung.com/java-mutable-vs-immutable-objects"
   ]
  }
 ],
 "metadata": {
  "kernelspec": {
   "display_name": "Java",
   "language": "java",
   "name": "java"
  },
  "language_info": {
   "codemirror_mode": "java",
   "file_extension": ".jshell",
   "mimetype": "text/x-java-source",
   "name": "Java",
   "pygments_lexer": "java",
   "version": "17.0.12+7-Ubuntu-1ubuntu220.04"
  }
 },
 "nbformat": 4,
 "nbformat_minor": 2
}
