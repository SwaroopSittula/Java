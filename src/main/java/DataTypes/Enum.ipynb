{
 "cells": [
  {
   "cell_type": "markdown",
   "metadata": {},
   "source": [
    "#### References\n",
    "\n",
    "- https://www.geeksforgeeks.org/enum-in-java/\n",
    "- https://docs.oracle.com/javase/tutorial/java/javaOO/enum.html"
   ]
  }
 ],
 "metadata": {
  "language_info": {
   "name": "python"
  }
 },
 "nbformat": 4,
 "nbformat_minor": 2
}
