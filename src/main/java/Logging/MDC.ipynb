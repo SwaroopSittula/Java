{
 "cells": [
  {
   "cell_type": "markdown",
   "metadata": {},
   "source": [
    "### Mapped Diagnostic Context (MDC)\n",
    "\n",
    "The MDC class contains only static methods. It lets the developer place information in a diagnostic context that can be subsequently retrieved by certain logback components. The MDC manages contextual information on a per thread basis. Typically, while starting to service a new client request, the developer will insert pertinent contextual information, such as the client id, client's IP address, request parameters etc. into the MDC. Logback components, if appropriately configured, will automatically include this information in each log entry."
   ]
  },
  {
   "cell_type": "code",
   "execution_count": 1,
   "metadata": {
    "vscode": {
     "languageId": "java"
    }
   },
   "outputs": [
    {
     "name": "stdout",
     "output_type": "stream",
     "text": [
      "John\n",
      "null\n"
     ]
    }
   ],
   "source": [
    "import org.apache.log4j.MDC;\n",
    "\n",
    "// Before Request\n",
    "MDC.put(\"userID\", \"John\");\n",
    "\n",
    "// While Processing the Request\n",
    "// log4j/log4j2 configuration file to include userID in logging\n",
    "System.out.println(MDC.get(\"userID\"));\n",
    "\n",
    "\n",
    "// After Request\n",
    "MDC.clear();\n",
    "\n",
    "System.out.println(MDC.get(\"userID\"));"
   ]
  },
  {
   "cell_type": "markdown",
   "metadata": {},
   "source": [
    "#### References\n",
    "\n",
    "- https://www.baeldung.com/mdc-in-log4j-2-logback\n",
    "- https://medium.com/javarevisited/mapped-diagnostic-context-mdc-6447b598736d\n",
    "- https://logging.apache.org/log4j/2.x/manual/thread-context.html"
   ]
  }
 ],
 "metadata": {
  "kernelspec": {
   "display_name": "Java",
   "language": "java",
   "name": "java"
  },
  "language_info": {
   "codemirror_mode": "java",
   "file_extension": ".jshell",
   "mimetype": "text/x-java-source",
   "name": "Java",
   "pygments_lexer": "java",
   "version": "17.0.11+9-Ubuntu-120.04.2"
  }
 },
 "nbformat": 4,
 "nbformat_minor": 2
}
