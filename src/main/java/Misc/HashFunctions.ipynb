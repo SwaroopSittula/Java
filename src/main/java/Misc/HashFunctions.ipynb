{
 "cells": [
  {
   "cell_type": "markdown",
   "metadata": {},
   "source": [
    "### Cryptographic Hash Functions\n",
    "\n",
    "Hash functions are mathematical operations that take any input data and produce a fixed-length output, called a hash or a digest. The output should be unique for each input, and it should be hard to reverse or modify. Hash functions are used for various purposes, such as verifying data integrity, authenticating messages, and generating passwords.\n",
    "\n",
    "**Examples**: MD5, SHA, SHA-256\n",
    "\n",
    "- SHA stands for Secure Hash Algorithm, and it is a family of standards developed by the National Institute of Standards and Technology (NIST)\n",
    "- MD5 stands for Message Digest 5, and it is an older algorithm designed by Ronald Rivest in 1991. (It is compromised)\n",
    "- SHA256 is a specific version of SHA-2, which is the second generation of SHA.\n",
    "- The main differences between SHA, MD5, and SHA256 are the output length, the security level, and the performance.\n",
    "- SHA has several variants, such as SHA-1, SHA-2, and SHA-3.\n",
    "  - SHA-1 produces a 160-bit output\n",
    "  - SHA-2 produces a 224, 256, 384, or 512-bit output\n",
    "  - SHA-3 produces a 224, 256, 384, or 512-bit output\n",
    "  - MD5 produces a 128-bit output\n",
    "  - SHA256 (part of SHA-2) produces a 256-bit output\n",
    "- Generally, the longer the output, the more secure the hash function, as it reduces the chances of **collisions (two different inputs producing the same output)**\n",
    "- However, the longer the output, the more computational resources and time required to generate and process the hash. Therefore, there is a trade-off between security and performance.\n",
    "\n",
    "\n",
    "### MD5 (Message Digest 5)\n",
    "\n",
    "- MD5 (Message-Digest algorithm 5) is a widely-used cryptographic hash function with a 128-bit hash value.\n",
    "- It calculates a hash code that is a 32-digit hexadecimal number\n",
    "- MD5 is one in a series of message digest algorithms designed by Professor Ronald Rivest of MIT (Rivest, 1994); however, the security of MD5 has been severely compromised, most infamously by the Flame malware in 2012.\n",
    "\n",
    "\n",
    "### SHA-256 (Secure Hash Algorithm)\n",
    "\n",
    "- SHA-256 is a 256-bit (32 byte) hashing algorithm which can calculate a hash code for an input of up to 264-1 bits\n",
    "- It undergoes 64 rounds of hashing and calculates a hash code that is a 64-digit hexadecimal number.\n",
    "\n",
    "\n",
    "### Message Digest Class in Java\n",
    "\n",
    "- MessageDigest Class provides the above cryptographic hash function in java to find hash value of a given text.\n",
    "- This Algorithms are initialize in static method called getInstance(). After selecting the algorithm it calculate the digest value and return the results in byte array. \n",
    "- BigInteger class is used, which converts the resultant byte array into its sign-magnitude representation. \n",
    "- This representation is converted into hex format to get the MessageDigest. \n",
    "- Zero's are appended to make the hash code length constant.\n"
   ]
  },
  {
   "cell_type": "code",
   "execution_count": 1,
   "metadata": {},
   "outputs": [],
   "source": [
    "import java.security.*;\n",
    "\n",
    "byte[] input = \"Hello\".getBytes();\n",
    "\n",
    "void findHashText(String alg, int len) throws NoSuchAlgorithmException {\n",
    "    MessageDigest md = MessageDigest.getInstance(alg);\n",
    "\n",
    "    byte[] messageDigest = md.digest(input);\n",
    "    \n",
    "    // Convert byte array into signum representation\n",
    "    BigInteger no = new BigInteger(1, messageDigest);\n",
    "    System.out.println(no);\n",
    "    \n",
    "    \n",
    "    // Convert message digest into hex value\n",
    "    String hashtext = no.toString(16);\n",
    "    while (hashtext.length() < len) {\n",
    "        hashtext = \"0\" + hashtext;\n",
    "    }\n",
    "    \n",
    "    System.out.println(hashtext);\n",
    "}"
   ]
  },
  {
   "cell_type": "code",
   "execution_count": 2,
   "metadata": {},
   "outputs": [
    {
     "name": "stdout",
     "output_type": "stream",
     "text": [
      "MD5:\n",
      "184900800977808474752697256094572479703\n",
      "8b1a9953c4611296a827abf8c47804d7\n",
      "\n",
      "\n",
      "SHA-256:\n",
      "11024336812845202542736754815889718862783203771635063178616734621641926515049\n",
      "185f8db32271fe25f561a6fc938b2e264306ec304eda518007d1764826381969\n"
     ]
    }
   ],
   "source": [
    "System.out.println(\"MD5:\");\n",
    "findHashText(\"MD5\", 32);\n",
    "\n",
    "System.out.println(\"\\n\\nSHA-256:\");\n",
    "findHashText(\"SHA-256\", 64);"
   ]
  },
  {
   "cell_type": "markdown",
   "metadata": {},
   "source": [
    "#### References\n",
    "\n",
    "- https://www.linkedin.com/advice/1/how-do-you-handle-compatibility-interoperability-issues\n",
    "- https://www.geeksforgeeks.org/md5-hash-in-java/\n",
    "- https://www.hackerrank.com/challenges/sha-256/problem?isFullScreen=true"
   ]
  }
 ],
 "metadata": {
  "kernelspec": {
   "display_name": "Java",
   "language": "java",
   "name": "java"
  },
  "language_info": {
   "codemirror_mode": "java",
   "file_extension": ".jshell",
   "mimetype": "text/x-java-source",
   "name": "java",
   "pygments_lexer": "java",
   "version": "17.0.11+9-Ubuntu-120.04.2"
  }
 },
 "nbformat": 4,
 "nbformat_minor": 2
}
