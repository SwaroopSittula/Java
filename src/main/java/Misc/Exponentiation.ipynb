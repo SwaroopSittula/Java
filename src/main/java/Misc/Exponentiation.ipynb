{
 "cells": [
  {
   "cell_type": "markdown",
   "metadata": {},
   "source": [
    "$$\n",
    "\\left[\n",
    "\\begin{array}{}\n",
    "a_{11} & a_{12} & a_{13} \\\\\n",
    "a_{21} & a_{22} & a_{23}\n",
    "\\end{array}\n",
    "\\right]_{2 \\times 3}\n",
    "$$\n",
    "\n",
    "\n",
    "\n",
    "fn = fn-1 + fn-2;\n",
    "\n",
    "f0 = 0, f1 = 1\n",
    "\n",
    "----------------------\n",
    "\n",
    "|f1 0|  1 0\n",
    "|f0 0|  0 0\n",
    "\n",
    "-----------------------\n",
    "\n",
    "f2 0   1 1    f1 0\n",
    "f1 0   1 0    f0 0\n",
    "\n",
    "-----------------------\n",
    "\n",
    "f3 0   1 1    f2 0\n",
    "f2 0   1 0    f1 0\n",
    "\n",
    "f3 0   1 1    1 1    f1 0\n",
    "f2 0   1 0    1 0    f0 0\n",
    "\n",
    "\n",
    "fn  0    c^n-1 * base\n",
    "n-1 0\n",
    "\n"
   ]
  },
  {
   "cell_type": "code",
   "execution_count": null,
   "metadata": {},
   "outputs": [],
   "source": [
    "// 1 => 000000001 (last bit = 1)\n",
    "// n&1 = 1 => n is odd (last bit of n is 1)\n",
    "// n&1 = 0 => n is even (last bit of n is 0)\n",
    "\n",
    "// ans = I(identity_matrix), m, n=7\n",
    "// 7\n",
    "// 7&1 = 1 => ans = ans*m\n",
    "// m = m^2\n",
    "// 7>>1 = 3\n",
    "// 3 \n",
    "// 3&1 = 1 => ans = m^3\n",
    "// m = m^4\n",
    "// 3>>1 = 1\n",
    "// 1\n",
    "// 1&1 = 1 => ans = m^7\n",
    "// m = m^8\n",
    "// 1>>1 = 0\n",
    "// return ans;\n",
    "\n",
    "\n",
    "// 8\n",
    "// 8&1 = 0 => ans = I\n",
    "// m = m^2\n",
    "// 8>>1 = 4\n",
    "// 4\n",
    "// 4&1 = 0 => ans = I\n",
    "// m = m^4\n",
    "// 4>>1 = 2\n",
    "// 2\n",
    "// 2&1 = 0 => ans = I\n",
    "// m = m^8\n",
    "// 2>>1 = 1\n",
    "// 1\n",
    "// 1&1 = 1 => ans = I*m^8\n",
    "// m = m^16\n",
    "// 1>>1 = 0\n",
    "// return ans;"
   ]
  },
  {
   "cell_type": "markdown",
   "metadata": {},
   "source": [
    "#### References\n",
    "\n",
    "- Binary Exponentiation - https://www.geeksforgeeks.org/binary-exponentiation-for-competitive-programming\n",
    "- Matrix Exponentiation - https://www.geeksforgeeks.org/matrix-exponentiation/"
   ]
  }
 ],
 "metadata": {
  "kernelspec": {
   "display_name": "Java",
   "language": "java",
   "name": "java"
  },
  "language_info": {
   "codemirror_mode": "java",
   "file_extension": ".jshell",
   "mimetype": "text/x-java-source",
   "name": "java",
   "pygments_lexer": "java",
   "version": "17.0.12+7-Ubuntu-1ubuntu220.04"
  }
 },
 "nbformat": 4,
 "nbformat_minor": 2
}
