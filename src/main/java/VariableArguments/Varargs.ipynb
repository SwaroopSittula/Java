{
 "cells": [
  {
   "cell_type": "markdown",
   "metadata": {},
   "source": [
    "### Variable Arguments (Varargs)\n",
    "\n",
    "Variable Arguments (Varargs) in Java is a method that takes a variable number of arguments. Internally, the Varargs method is implemented by using the single dimensions arrays concept. Hence, in the Varargs method, we can differentiate arguments by using Index.\n",
    "\n",
    "A method can **only allow one variable argument** and it should be declared at the **end**.\n",
    "\n",
    "Vararg Methods can also be overloaded, but overloading may lead to ambiguity."
   ]
  },
  {
   "cell_type": "code",
   "execution_count": 34,
   "metadata": {
    "vscode": {
     "languageId": "java"
    }
   },
   "outputs": [
    {
     "name": "stdout",
     "output_type": "stream",
     "text": [
      "1+2+3=6\n",
      "1+2+3+4+5+6=21\n"
     ]
    }
   ],
   "source": [
    "class Add {\n",
    "    public void add(int... arr) {\n",
    "        int sum = 0;\n",
    "        String separator = \"\";\n",
    "        for (int i : arr) {\n",
    "            sum += i;\n",
    "            System.out.print(separator + i);\n",
    "            separator = \"+\";            \n",
    "        }\n",
    "        System.out.println(\"=\" + sum);\n",
    "    }\n",
    "}\n",
    "\n",
    "Add a = new Add();\n",
    "\n",
    "a.add(1,2,3);\n",
    "a.add(1,2,3,4,5,6);"
   ]
  },
  {
   "cell_type": "code",
   "execution_count": 35,
   "metadata": {
    "vscode": {
     "languageId": "java"
    }
   },
   "outputs": [],
   "source": [
    "// Valid: varargs at end\n",
    "void num1(double d, float f, double... drr){}"
   ]
  },
  {
   "cell_type": "code",
   "execution_count": 36,
   "metadata": {
    "vscode": {
     "languageId": "java"
    }
   },
   "outputs": [
    {
     "ename": "CompilationException",
     "evalue": "",
     "output_type": "error",
     "traceback": [
      "\u001b[1m\u001b[30m|   \u001b[1m\u001b[30mvoid num2(\u001b[0m\u001b[1m\u001b[30m\u001b[41mdouble... drr\u001b[0m\u001b[1m\u001b[30m, float f, double d){}\u001b[0m",
      "\u001b[1m\u001b[31mvarargs parameter must be the last parameter\u001b[0m",
      ""
     ]
    }
   ],
   "source": [
    "// Invalid: varargs at begining or middle\n",
    "void num2(double... drr, float f, double d){}"
   ]
  },
  {
   "cell_type": "code",
   "execution_count": 38,
   "metadata": {
    "vscode": {
     "languageId": "java"
    }
   },
   "outputs": [
    {
     "ename": "CompilationException",
     "evalue": "",
     "output_type": "error",
     "traceback": [
      "\u001b[1m\u001b[30m|   \u001b[1m\u001b[30mvoid num3(\u001b[0m\u001b[1m\u001b[30m\u001b[41mString... arr\u001b[0m\u001b[1m\u001b[30m, int... brr){}\u001b[0m",
      "\u001b[1m\u001b[31mvarargs parameter must be the last parameter\u001b[0m",
      ""
     ]
    }
   ],
   "source": [
    "// Invalid: multiple varargs\n",
    "void num3(String... arr, int... brr){}"
   ]
  },
  {
   "cell_type": "markdown",
   "metadata": {},
   "source": [
    "#### References\n",
    "- https://www.geeksforgeeks.org/variable-arguments-varargs-in-java/"
   ]
  }
 ],
 "metadata": {
  "kernelspec": {
   "display_name": "Java",
   "language": "java",
   "name": "java"
  },
  "language_info": {
   "codemirror_mode": "java",
   "file_extension": ".jshell",
   "mimetype": "text/x-java-source",
   "name": "Java",
   "pygments_lexer": "java",
   "version": "17.0.11+9-Ubuntu-120.04.2"
  }
 },
 "nbformat": 4,
 "nbformat_minor": 2
}
