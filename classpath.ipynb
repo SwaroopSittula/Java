{
 "cells": [
  {
   "cell_type": "code",
   "execution_count": 2,
   "metadata": {
    "vscode": {
     "languageId": "java"
    }
   },
   "outputs": [],
   "source": [
    "%classpath add dynamic $classpath"
   ]
  },
  {
   "cell_type": "markdown",
   "metadata": {},
   "source": [
    "### Setting Classpath for pom dependencies\n",
    "\n",
    "- Run **classpath.sh** to get the list of jars required.\n",
    "- Paste and Run the **classpath add dynamic/jar <paths>** command in the **current** notebook.\n",
    "- Now the code snippets in notebooks can be executed without compilation errors from ijava.\n",
    "\n",
    "\n",
    "### Alternate: Update the kernel.json from the ijava kernel\n",
    "\n",
    "- Run **java kernelspec list** command to get the path of java kernel installation. (Activate conda env if using environment other than base)\n",
    "- Find and update the **kernel.json** to include **-cp** and the **classpath paths obtained using classpath.sh**\n",
    "\n",
    "\n",
    "### Recommended \n",
    "\n",
    "- Instead of worrying about the jar paths and using classpath.sh, directly add all the jars in .m2 inside the kernel.json\n",
    "- Replace the paths to absolute paths if required.\n",
    "\n",
    "**kernel.json**:\n",
    "\n",
    "```json\n",
    "{\n",
    "    \"argv\": [\n",
    "        \"sh\",\n",
    "        \"-c\",\n",
    "        \"java -cp \\\"~/anaconda3/share/jupyter/kernels/java/ijava-1.3.0.jar:$(find ~/.m2/repository -name '*.jar' | tr '\\\\n' ':')\\\" io.github.spencerpark.ijava.IJava {connection_file}\"\n",
    "    ],\n",
    "    \"display_name\": \"Java\",\n",
    "    \"env\": {},\n",
    "    \"interrupt_mode\": \"message\",\n",
    "    \"language\": \"java\"\n",
    "}\n",
    "```\n"
   ]
  }
 ],
 "metadata": {
  "kernelspec": {
   "display_name": "Java",
   "language": "java",
   "name": "java"
  },
  "language_info": {
   "codemirror_mode": "java",
   "file_extension": ".jshell",
   "mimetype": "text/x-java-source",
   "name": "Java",
   "pygments_lexer": "java",
   "version": "17.0.11+9-Ubuntu-120.04.2"
  }
 },
 "nbformat": 4,
 "nbformat_minor": 2
}
